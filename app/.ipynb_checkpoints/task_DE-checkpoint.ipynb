{
 "cells": [
  {
   "cell_type": "code",
   "execution_count": 1,
   "id": "d21f178e-ba43-42d3-831c-b4a73d1d35e9",
   "metadata": {},
   "outputs": [],
   "source": [
    "import os\n",
    "import pandas as pd\n",
    "import requests\n",
    "import zipfile\n",
    "from sqlalchemy import create_engine\n",
    "from sqlalchemy import text"
   ]
  },
  {
   "cell_type": "code",
   "execution_count": 2,
   "id": "b6c04dc7-63b5-409a-8413-e85470fdeca7",
   "metadata": {},
   "outputs": [],
   "source": [
    "url = 'https://files.grouplens.org/datasets/movielens/ml-latest-small.zip'\n",
    "r = requests.get(url)"
   ]
  },
  {
   "cell_type": "code",
   "execution_count": 3,
   "id": "b83040f1-0272-48f4-bfb7-5fc0dae3b5d3",
   "metadata": {},
   "outputs": [],
   "source": [
    "with open('ml-latest-small.zip', 'wb') as f:\n",
    "    f.write(r.content)"
   ]
  },
  {
   "cell_type": "code",
   "execution_count": 4,
   "id": "7184ed9d-8d54-442c-84c3-d0ca0318ed3a",
   "metadata": {},
   "outputs": [],
   "source": [
    "with zipfile.ZipFile('ml-latest-small.zip', 'r') as zip_ref:\n",
    "    zip_ref.extractall('ml-latest-small')"
   ]
  },
  {
   "cell_type": "code",
   "execution_count": 5,
   "id": "c301042a-6ca6-4035-8e01-228101bf6df5",
   "metadata": {},
   "outputs": [],
   "source": [
    "db_url = 'postgresql://user:password@db:5432/moviedb'\n",
    "engine = create_engine(db_url)"
   ]
  },
  {
   "cell_type": "code",
   "execution_count": 6,
   "id": "cae6d722-171c-4978-a121-d2f3133670bb",
   "metadata": {},
   "outputs": [],
   "source": [
    "movies = pd.read_csv('ml-latest-small/ml-latest-small/movies.csv')\n",
    "ratings = pd.read_csv('ml-latest-small/ml-latest-small/ratings.csv')"
   ]
  },
  {
   "cell_type": "code",
   "execution_count": 7,
   "id": "79f112e0-e613-4802-9628-4d7382214e9d",
   "metadata": {},
   "outputs": [
    {
     "data": {
      "text/plain": [
       "836"
      ]
     },
     "execution_count": 7,
     "metadata": {},
     "output_type": "execute_result"
    }
   ],
   "source": [
    "movies.to_sql('movies', engine, if_exists='replace', index=False)\n",
    "ratings.to_sql('ratings', engine, if_exists='replace', index=False)"
   ]
  },
  {
   "cell_type": "markdown",
   "id": "d8c41880-854f-4a70-a085-3eecdc96ce15",
   "metadata": {},
   "source": [
    "### 1. How many movies are in data set?"
   ]
  },
  {
   "cell_type": "code",
   "execution_count": 8,
   "id": "2ca64527-094a-4ae7-8741-94434baab740",
   "metadata": {},
   "outputs": [
    {
     "name": "stdout",
     "output_type": "stream",
     "text": [
      "9742\n"
     ]
    }
   ],
   "source": [
    "query = \"\"\"\n",
    "SELECT COUNT(title) \n",
    "FROM movies\n",
    "\"\"\"\n",
    "task_1 = pd.read_sql(query, engine)\n",
    "print(f\"{task_1.iloc[0, 0]}\")"
   ]
  },
  {
   "cell_type": "markdown",
   "id": "65e9a95d-97b2-4dcc-bd34-9b54b2b7b548",
   "metadata": {},
   "source": [
    "### 2. What is the most common genre of movie?"
   ]
  },
  {
   "cell_type": "code",
   "execution_count": 9,
   "id": "5189d2d7-2f9b-4586-99ed-ae25c1ebfaa0",
   "metadata": {},
   "outputs": [
    {
     "name": "stdout",
     "output_type": "stream",
     "text": [
      "Drama: 4361\n"
     ]
    }
   ],
   "source": [
    "query = \"\"\"\n",
    "SELECT genre, COUNT(genre) AS count \n",
    "FROM (\n",
    "    SELECT unnest(string_to_array(movies.genres, '|')) AS genre\n",
    "    FROM movies\n",
    ") genre_table\n",
    "GROUP BY genre\n",
    "ORDER BY count DESC\n",
    "LIMIT 1;\n",
    "\"\"\"\n",
    "task_2 = pd.read_sql(query, engine)\n",
    "print(f\"{task_2.iloc[0, 0]}: {task_2.iloc[0, 1]}\")"
   ]
  },
  {
   "cell_type": "markdown",
   "id": "ec0d1b16-1132-4862-8ebb-b0710063ed7f",
   "metadata": {},
   "source": [
    "### 3. What are top 10 movies with highest rate?"
   ]
  },
  {
   "cell_type": "code",
   "execution_count": 10,
   "id": "8d2e4c75-be1c-4b61-bef7-191943e1c1f5",
   "metadata": {
    "scrolled": true
   },
   "outputs": [
    {
     "data": {
      "text/html": [
       "<div>\n",
       "<style scoped>\n",
       "    .dataframe tbody tr th:only-of-type {\n",
       "        vertical-align: middle;\n",
       "    }\n",
       "\n",
       "    .dataframe tbody tr th {\n",
       "        vertical-align: top;\n",
       "    }\n",
       "\n",
       "    .dataframe thead th {\n",
       "        text-align: right;\n",
       "    }\n",
       "</style>\n",
       "<table border=\"1\" class=\"dataframe\">\n",
       "  <thead>\n",
       "    <tr style=\"text-align: right;\">\n",
       "      <th></th>\n",
       "      <th>title</th>\n",
       "      <th>rate</th>\n",
       "    </tr>\n",
       "  </thead>\n",
       "  <tbody>\n",
       "    <tr>\n",
       "      <th>0</th>\n",
       "      <td>Brother (Brat) (1997)</td>\n",
       "      <td>5.0</td>\n",
       "    </tr>\n",
       "    <tr>\n",
       "      <th>1</th>\n",
       "      <td>Eva (2011)</td>\n",
       "      <td>5.0</td>\n",
       "    </tr>\n",
       "    <tr>\n",
       "      <th>2</th>\n",
       "      <td>Go for Zucker! (Alles auf Zucker!) (2004)</td>\n",
       "      <td>5.0</td>\n",
       "    </tr>\n",
       "    <tr>\n",
       "      <th>3</th>\n",
       "      <td>Holy Motors (2012)</td>\n",
       "      <td>5.0</td>\n",
       "    </tr>\n",
       "    <tr>\n",
       "      <th>4</th>\n",
       "      <td>Story of Women (Affaire de femmes, Une) (1988)</td>\n",
       "      <td>5.0</td>\n",
       "    </tr>\n",
       "    <tr>\n",
       "      <th>5</th>\n",
       "      <td>Watching the Detectives (2007)</td>\n",
       "      <td>5.0</td>\n",
       "    </tr>\n",
       "    <tr>\n",
       "      <th>6</th>\n",
       "      <td>Girls About Town (1931)</td>\n",
       "      <td>5.0</td>\n",
       "    </tr>\n",
       "    <tr>\n",
       "      <th>7</th>\n",
       "      <td>Connections (1978)</td>\n",
       "      <td>5.0</td>\n",
       "    </tr>\n",
       "    <tr>\n",
       "      <th>8</th>\n",
       "      <td>Nasu: Summer in Andalusia (2003)</td>\n",
       "      <td>5.0</td>\n",
       "    </tr>\n",
       "    <tr>\n",
       "      <th>9</th>\n",
       "      <td>Into the Woods (1991)</td>\n",
       "      <td>5.0</td>\n",
       "    </tr>\n",
       "  </tbody>\n",
       "</table>\n",
       "</div>"
      ],
      "text/plain": [
       "                                            title  rate\n",
       "0                           Brother (Brat) (1997)   5.0\n",
       "1                                      Eva (2011)   5.0\n",
       "2       Go for Zucker! (Alles auf Zucker!) (2004)   5.0\n",
       "3                              Holy Motors (2012)   5.0\n",
       "4  Story of Women (Affaire de femmes, Une) (1988)   5.0\n",
       "5                  Watching the Detectives (2007)   5.0\n",
       "6                         Girls About Town (1931)   5.0\n",
       "7                              Connections (1978)   5.0\n",
       "8                Nasu: Summer in Andalusia (2003)   5.0\n",
       "9                           Into the Woods (1991)   5.0"
      ]
     },
     "execution_count": 10,
     "metadata": {},
     "output_type": "execute_result"
    }
   ],
   "source": [
    "query = \"\"\"\n",
    "SELECT movies.title, AVG(ratings.rating) AS rate\n",
    "FROM ratings\n",
    "JOIN movies ON movies.\"movieId\" = ratings.\"movieId\"\n",
    "GROUP BY movies.title\n",
    "ORDER BY rate DESC\n",
    "LIMIT 10;\n",
    "\"\"\"\n",
    "task_3 = pd.read_sql(query, engine)\n",
    "task_3"
   ]
  },
  {
   "cell_type": "markdown",
   "id": "70cfdfec-9a51-4ebe-85a1-25b68d305a27",
   "metadata": {},
   "source": [
    "### 4. What are 5 most often rating users?"
   ]
  },
  {
   "cell_type": "code",
   "execution_count": 11,
   "id": "278eeab1-fb10-478d-94de-184f2f3fd0b8",
   "metadata": {
    "scrolled": true
   },
   "outputs": [
    {
     "data": {
      "text/html": [
       "<div>\n",
       "<style scoped>\n",
       "    .dataframe tbody tr th:only-of-type {\n",
       "        vertical-align: middle;\n",
       "    }\n",
       "\n",
       "    .dataframe tbody tr th {\n",
       "        vertical-align: top;\n",
       "    }\n",
       "\n",
       "    .dataframe thead th {\n",
       "        text-align: right;\n",
       "    }\n",
       "</style>\n",
       "<table border=\"1\" class=\"dataframe\">\n",
       "  <thead>\n",
       "    <tr style=\"text-align: right;\">\n",
       "      <th></th>\n",
       "      <th>userId</th>\n",
       "      <th>r_count</th>\n",
       "    </tr>\n",
       "  </thead>\n",
       "  <tbody>\n",
       "    <tr>\n",
       "      <th>0</th>\n",
       "      <td>414</td>\n",
       "      <td>2698</td>\n",
       "    </tr>\n",
       "    <tr>\n",
       "      <th>1</th>\n",
       "      <td>599</td>\n",
       "      <td>2478</td>\n",
       "    </tr>\n",
       "    <tr>\n",
       "      <th>2</th>\n",
       "      <td>474</td>\n",
       "      <td>2108</td>\n",
       "    </tr>\n",
       "    <tr>\n",
       "      <th>3</th>\n",
       "      <td>448</td>\n",
       "      <td>1864</td>\n",
       "    </tr>\n",
       "    <tr>\n",
       "      <th>4</th>\n",
       "      <td>274</td>\n",
       "      <td>1346</td>\n",
       "    </tr>\n",
       "  </tbody>\n",
       "</table>\n",
       "</div>"
      ],
      "text/plain": [
       "   userId  r_count\n",
       "0     414     2698\n",
       "1     599     2478\n",
       "2     474     2108\n",
       "3     448     1864\n",
       "4     274     1346"
      ]
     },
     "execution_count": 11,
     "metadata": {},
     "output_type": "execute_result"
    }
   ],
   "source": [
    "query = \"\"\"\n",
    "SELECT ratings.\"userId\", COUNT(ratings.\"userId\") AS r_count\n",
    "FROM ratings\n",
    "GROUP BY ratings.\"userId\"\n",
    "ORDER BY r_count DESC\n",
    "LIMIT 5;\n",
    "\"\"\"\n",
    "task_4 = pd.read_sql(query, engine)\n",
    "task_4"
   ]
  },
  {
   "cell_type": "markdown",
   "id": "92d3f508-10ef-4715-b5e7-01dd131695ef",
   "metadata": {},
   "source": [
    "### 5. When was done first and last rate included in data set and what was the rated movie tittle?"
   ]
  },
  {
   "cell_type": "code",
   "execution_count": 12,
   "id": "448ad35e-cafb-4c60-af6c-2b4acb7ae02f",
   "metadata": {},
   "outputs": [
    {
     "data": {
      "text/html": [
       "<div>\n",
       "<style scoped>\n",
       "    .dataframe tbody tr th:only-of-type {\n",
       "        vertical-align: middle;\n",
       "    }\n",
       "\n",
       "    .dataframe tbody tr th {\n",
       "        vertical-align: top;\n",
       "    }\n",
       "\n",
       "    .dataframe thead th {\n",
       "        text-align: right;\n",
       "    }\n",
       "</style>\n",
       "<table border=\"1\" class=\"dataframe\">\n",
       "  <thead>\n",
       "    <tr style=\"text-align: right;\">\n",
       "      <th></th>\n",
       "      <th>title</th>\n",
       "      <th>timestamp</th>\n",
       "    </tr>\n",
       "  </thead>\n",
       "  <tbody>\n",
       "    <tr>\n",
       "      <th>0</th>\n",
       "      <td>Copycat (1995)</td>\n",
       "      <td>1996-03-29 18:36:55</td>\n",
       "    </tr>\n",
       "    <tr>\n",
       "      <th>1</th>\n",
       "      <td>Dances with Wolves (1990)</td>\n",
       "      <td>1996-03-29 18:36:55</td>\n",
       "    </tr>\n",
       "    <tr>\n",
       "      <th>2</th>\n",
       "      <td>Aladdin (1992)</td>\n",
       "      <td>1996-03-29 18:36:55</td>\n",
       "    </tr>\n",
       "    <tr>\n",
       "      <th>3</th>\n",
       "      <td>Englishman Who Went Up a Hill But Came Down a ...</td>\n",
       "      <td>1996-03-29 18:36:55</td>\n",
       "    </tr>\n",
       "    <tr>\n",
       "      <th>4</th>\n",
       "      <td>Cliffhanger (1993)</td>\n",
       "      <td>1996-03-29 18:36:55</td>\n",
       "    </tr>\n",
       "    <tr>\n",
       "      <th>5</th>\n",
       "      <td>City Slickers II: The Legend of Curly's Gold (...</td>\n",
       "      <td>1996-03-29 18:36:55</td>\n",
       "    </tr>\n",
       "    <tr>\n",
       "      <th>6</th>\n",
       "      <td>Black Beauty (1994)</td>\n",
       "      <td>1996-03-29 18:36:55</td>\n",
       "    </tr>\n",
       "    <tr>\n",
       "      <th>7</th>\n",
       "      <td>Beverly Hills Cop III (1994)</td>\n",
       "      <td>1996-03-29 18:36:55</td>\n",
       "    </tr>\n",
       "    <tr>\n",
       "      <th>8</th>\n",
       "      <td>Corrina, Corrina (1994)</td>\n",
       "      <td>1996-03-29 18:36:55</td>\n",
       "    </tr>\n",
       "    <tr>\n",
       "      <th>9</th>\n",
       "      <td>Batman (1989)</td>\n",
       "      <td>1996-03-29 18:36:55</td>\n",
       "    </tr>\n",
       "    <tr>\n",
       "      <th>10</th>\n",
       "      <td>Clear and Present Danger (1994)</td>\n",
       "      <td>1996-03-29 18:36:55</td>\n",
       "    </tr>\n",
       "    <tr>\n",
       "      <th>11</th>\n",
       "      <td>Drop Zone (1994)</td>\n",
       "      <td>1996-03-29 18:36:55</td>\n",
       "    </tr>\n",
       "    <tr>\n",
       "      <th>12</th>\n",
       "      <td>Disclosure (1994)</td>\n",
       "      <td>1996-03-29 18:36:55</td>\n",
       "    </tr>\n",
       "    <tr>\n",
       "      <th>13</th>\n",
       "      <td>Circle of Friends (1995)</td>\n",
       "      <td>1996-03-29 18:36:55</td>\n",
       "    </tr>\n",
       "    <tr>\n",
       "      <th>14</th>\n",
       "      <td>Boys on the Side (1995)</td>\n",
       "      <td>1996-03-29 18:36:55</td>\n",
       "    </tr>\n",
       "    <tr>\n",
       "      <th>15</th>\n",
       "      <td>Die Hard: With a Vengeance (1995)</td>\n",
       "      <td>1996-03-29 18:36:55</td>\n",
       "    </tr>\n",
       "    <tr>\n",
       "      <th>16</th>\n",
       "      <td>Crimson Tide (1995)</td>\n",
       "      <td>1996-03-29 18:36:55</td>\n",
       "    </tr>\n",
       "    <tr>\n",
       "      <th>17</th>\n",
       "      <td>Apollo 13 (1995)</td>\n",
       "      <td>1996-03-29 18:36:55</td>\n",
       "    </tr>\n",
       "    <tr>\n",
       "      <th>18</th>\n",
       "      <td>Baby-Sitters Club, The (1995)</td>\n",
       "      <td>1996-03-29 18:36:55</td>\n",
       "    </tr>\n",
       "    <tr>\n",
       "      <th>19</th>\n",
       "      <td>Beauty and the Beast (1991)</td>\n",
       "      <td>1996-03-29 18:36:55</td>\n",
       "    </tr>\n",
       "    <tr>\n",
       "      <th>20</th>\n",
       "      <td>Crumb (1994)</td>\n",
       "      <td>2018-09-24 14:27:30</td>\n",
       "    </tr>\n",
       "  </tbody>\n",
       "</table>\n",
       "</div>"
      ],
      "text/plain": [
       "                                                title           timestamp\n",
       "0                                      Copycat (1995) 1996-03-29 18:36:55\n",
       "1                           Dances with Wolves (1990) 1996-03-29 18:36:55\n",
       "2                                      Aladdin (1992) 1996-03-29 18:36:55\n",
       "3   Englishman Who Went Up a Hill But Came Down a ... 1996-03-29 18:36:55\n",
       "4                                  Cliffhanger (1993) 1996-03-29 18:36:55\n",
       "5   City Slickers II: The Legend of Curly's Gold (... 1996-03-29 18:36:55\n",
       "6                                 Black Beauty (1994) 1996-03-29 18:36:55\n",
       "7                        Beverly Hills Cop III (1994) 1996-03-29 18:36:55\n",
       "8                             Corrina, Corrina (1994) 1996-03-29 18:36:55\n",
       "9                                       Batman (1989) 1996-03-29 18:36:55\n",
       "10                    Clear and Present Danger (1994) 1996-03-29 18:36:55\n",
       "11                                   Drop Zone (1994) 1996-03-29 18:36:55\n",
       "12                                  Disclosure (1994) 1996-03-29 18:36:55\n",
       "13                           Circle of Friends (1995) 1996-03-29 18:36:55\n",
       "14                            Boys on the Side (1995) 1996-03-29 18:36:55\n",
       "15                  Die Hard: With a Vengeance (1995) 1996-03-29 18:36:55\n",
       "16                                Crimson Tide (1995) 1996-03-29 18:36:55\n",
       "17                                   Apollo 13 (1995) 1996-03-29 18:36:55\n",
       "18                      Baby-Sitters Club, The (1995) 1996-03-29 18:36:55\n",
       "19                        Beauty and the Beast (1991) 1996-03-29 18:36:55\n",
       "20                                       Crumb (1994) 2018-09-24 14:27:30"
      ]
     },
     "execution_count": 12,
     "metadata": {},
     "output_type": "execute_result"
    }
   ],
   "source": [
    "query = \"\"\"\n",
    "WITH first_and_last AS (\n",
    "    SELECT MIN(ratings.timestamp) AS first_rate, MAX(ratings.timestamp) AS last_rate\n",
    "    FROM ratings\n",
    ")\n",
    "SELECT movies.title, ratings.timestamp\n",
    "FROM ratings\n",
    "JOIN movies ON movies.\"movieId\" = ratings.\"movieId\"\n",
    "WHERE ratings.timestamp = (SELECT first_rate FROM first_and_last) OR ratings.timestamp = (SELECT last_rate FROM first_and_last);\n",
    "\"\"\"\n",
    "task_5 = pd.read_sql(query, engine)\n",
    "task_5['timestamp'] = pd.to_datetime(task_5['timestamp'], unit='s')\n",
    "task_5.sort_values(by='timestamp').reset_index(drop=True)"
   ]
  },
  {
   "cell_type": "markdown",
   "id": "8bff12c6-baec-4f17-bfd9-8a36c3f71ce6",
   "metadata": {},
   "source": [
    "### 6. All movies released in 1990"
   ]
  },
  {
   "cell_type": "code",
   "execution_count": 13,
   "id": "37063052-4179-4a82-8989-966f67f187f2",
   "metadata": {},
   "outputs": [
    {
     "data": {
      "text/html": [
       "<div>\n",
       "<style scoped>\n",
       "    .dataframe tbody tr th:only-of-type {\n",
       "        vertical-align: middle;\n",
       "    }\n",
       "\n",
       "    .dataframe tbody tr th {\n",
       "        vertical-align: top;\n",
       "    }\n",
       "\n",
       "    .dataframe thead th {\n",
       "        text-align: right;\n",
       "    }\n",
       "</style>\n",
       "<table border=\"1\" class=\"dataframe\">\n",
       "  <thead>\n",
       "    <tr style=\"text-align: right;\">\n",
       "      <th></th>\n",
       "      <th>title</th>\n",
       "    </tr>\n",
       "  </thead>\n",
       "  <tbody>\n",
       "    <tr>\n",
       "      <th>0</th>\n",
       "      <td>Home Alone (1990)</td>\n",
       "    </tr>\n",
       "    <tr>\n",
       "      <th>1</th>\n",
       "      <td>Ghost (1990)</td>\n",
       "    </tr>\n",
       "    <tr>\n",
       "      <th>2</th>\n",
       "      <td>Dances with Wolves (1990)</td>\n",
       "    </tr>\n",
       "    <tr>\n",
       "      <th>3</th>\n",
       "      <td>Pretty Woman (1990)</td>\n",
       "    </tr>\n",
       "    <tr>\n",
       "      <th>4</th>\n",
       "      <td>Days of Thunder (1990)</td>\n",
       "    </tr>\n",
       "    <tr>\n",
       "      <th>...</th>\n",
       "      <td>...</td>\n",
       "    </tr>\n",
       "    <tr>\n",
       "      <th>142</th>\n",
       "      <td>Dragon Ball Z: Bardock - The Father of Goku (D...</td>\n",
       "    </tr>\n",
       "    <tr>\n",
       "      <th>143</th>\n",
       "      <td>I Bought a Vampire Motorcycle (1990)</td>\n",
       "    </tr>\n",
       "    <tr>\n",
       "      <th>144</th>\n",
       "      <td>Maniac Cop 2 (1990)</td>\n",
       "    </tr>\n",
       "    <tr>\n",
       "      <th>145</th>\n",
       "      <td>Jetsons: The Movie (1990)</td>\n",
       "    </tr>\n",
       "    <tr>\n",
       "      <th>146</th>\n",
       "      <td>The Forbidden Dance (1990)</td>\n",
       "    </tr>\n",
       "  </tbody>\n",
       "</table>\n",
       "<p>147 rows × 1 columns</p>\n",
       "</div>"
      ],
      "text/plain": [
       "                                                 title\n",
       "0                                    Home Alone (1990)\n",
       "1                                         Ghost (1990)\n",
       "2                            Dances with Wolves (1990)\n",
       "3                                  Pretty Woman (1990)\n",
       "4                               Days of Thunder (1990)\n",
       "..                                                 ...\n",
       "142  Dragon Ball Z: Bardock - The Father of Goku (D...\n",
       "143               I Bought a Vampire Motorcycle (1990)\n",
       "144                                Maniac Cop 2 (1990)\n",
       "145                          Jetsons: The Movie (1990)\n",
       "146                         The Forbidden Dance (1990)\n",
       "\n",
       "[147 rows x 1 columns]"
      ]
     },
     "execution_count": 13,
     "metadata": {},
     "output_type": "execute_result"
    }
   ],
   "source": [
    "query = \"\"\"\n",
    "SELECT title \n",
    "FROM movies \n",
    "WHERE movies.title LIKE '%(1990)%';\n",
    "\"\"\"\n",
    "task_6 = pd.read_sql(text(query), engine)\n",
    "task_6"
   ]
  }
 ],
 "metadata": {
  "kernelspec": {
   "display_name": "Python 3 (ipykernel)",
   "language": "python",
   "name": "python3"
  },
  "language_info": {
   "codemirror_mode": {
    "name": "ipython",
    "version": 3
   },
   "file_extension": ".py",
   "mimetype": "text/x-python",
   "name": "python",
   "nbconvert_exporter": "python",
   "pygments_lexer": "ipython3",
   "version": "3.9.20"
  }
 },
 "nbformat": 4,
 "nbformat_minor": 5
}
